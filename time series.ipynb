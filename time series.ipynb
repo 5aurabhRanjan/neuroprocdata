{
 "cells": [
  {
   "cell_type": "markdown",
   "metadata": {
    "run_control": {
     "frozen": false,
     "read_only": false
    }
   },
   "source": [
    "# basic neuroproc timeseries\n",
    "\n",
    "The spiking timeseries are available in both numpy `.npy` format as well as HDF5 format. We'll focus on the `.npy` format here. There are three games, and for each of those we can look at the transistor (on/off) and wire voltage (rising/falling) state. \n",
    "\n",
    "The files names are `{game}.{duration}{transistor or wire}{format}.gz`. A small snippet of donkey kong is avaialble for quick experimentation and validation:\n",
    "\n",
    "- [`donkeykong.5000.ts.spikes.npy.gz`](https://s3-us-west-2.amazonaws.com/ericmjonas-public/data/neuroproc/donkeykong.5000.ts.spikes.npy.gz)\n",
    "- [`donkeykong.5000.ws.spikes.npy.gz`](https://s3-us-west-2.amazonaws.com/ericmjonas-public/data/neuroproc/donkeykong.5000.ws.spikes.npy.gz)\n",
    "- [`donkeykong.5000.ts.spikes.h5.gz`](https://s3-us-west-2.amazonaws.com/ericmjonas-public/data/neuroproc/donkeykong.5000.ts.spikes.h5.gz)\n",
    "- [`donkeykong.5000.ws.spikes.h5.gz`](https://s3-us-west-2.amazonaws.com/ericmjonas-public/data/neuroproc/donkeykong.5000.ws.spikes.h5.gz)\n",
    "\n"
   ]
  },
  {
   "cell_type": "code",
   "execution_count": 1,
   "metadata": {
    "ExecuteTime": {
     "end_time": "2016-07-29T05:59:00.114033",
     "start_time": "2016-07-29T05:58:58.985235"
    },
    "collapsed": false
   },
   "outputs": [
    {
     "name": "stdout",
     "output_type": "stream",
     "text": [
      "Populating the interactive namespace from numpy and matplotlib\n"
     ]
    }
   ],
   "source": [
    "%pylab inline\n",
    "import numpy as np"
   ]
  },
  {
   "cell_type": "code",
   "execution_count": 4,
   "metadata": {
    "ExecuteTime": {
     "end_time": "2016-07-29T06:11:37.619360",
     "start_time": "2016-07-29T06:11:35.361237"
    },
    "collapsed": false
   },
   "outputs": [
    {
     "name": "stdout",
     "output_type": "stream",
     "text": [
      "--2016-07-29 06:11:35--  https://s3-us-west-2.amazonaws.com/ericmjonas-public/data/neuroproc/donkeykong.5000.ts.spikes.npy.gz\n",
      "Resolving s3-us-west-2.amazonaws.com (s3-us-west-2.amazonaws.com)... 54.231.169.36\n",
      "Connecting to s3-us-west-2.amazonaws.com (s3-us-west-2.amazonaws.com)|54.231.169.36|:443... connected.\n",
      "HTTP request sent, awaiting response... 200 OK\n",
      "Length: 71004368 (68M) [binary/octet-stream]\n",
      "Saving to: ‘donkeykong.5000.ts.spikes.npy.gz’\n",
      "\n",
      "100%[======================================>] 71,004,368  36.8MB/s   in 1.8s   \n",
      "\n",
      "2016-07-29 06:11:37 (36.8 MB/s) - ‘donkeykong.5000.ts.spikes.npy.gz’ saved [71004368/71004368]\n",
      "\n"
     ]
    }
   ],
   "source": [
    "# Let's look at the short donkeykong\n",
    "\n",
    "! wget https://s3-us-west-2.amazonaws.com/ericmjonas-public/data/neuroproc/donkeykong.5000.ts.spikes.npy.gz"
   ]
  },
  {
   "cell_type": "code",
   "execution_count": 5,
   "metadata": {
    "ExecuteTime": {
     "end_time": "2016-07-29T06:12:08.344113",
     "start_time": "2016-07-29T06:11:56.704494"
    },
    "collapsed": true
   },
   "outputs": [],
   "source": [
    "!gunzip donkeykong.5000.ts.spikes.npy.gz"
   ]
  },
  {
   "cell_type": "code",
   "execution_count": 6,
   "metadata": {
    "ExecuteTime": {
     "end_time": "2016-07-29T06:12:54.225112",
     "start_time": "2016-07-29T06:12:54.210289"
    },
    "collapsed": true
   },
   "outputs": [],
   "source": [
    "# I highly recommend mmapping-in the files -- not necessary for the small one but the others are 20+ GB\n",
    "ts_spikes = np.load(\"donkeykong.5000.ts.spikes.npy\", mmap_mode='r')"
   ]
  },
  {
   "cell_type": "code",
   "execution_count": 7,
   "metadata": {
    "ExecuteTime": {
     "end_time": "2016-07-29T06:12:59.838591",
     "start_time": "2016-07-29T06:12:59.827933"
    },
    "collapsed": false
   },
   "outputs": [
    {
     "data": {
      "text/plain": [
       "(639999, 3510)"
      ]
     },
     "execution_count": 7,
     "metadata": {},
     "output_type": "execute_result"
    }
   ],
   "source": [
    "ts_spikes.shape"
   ]
  },
  {
   "cell_type": "code",
   "execution_count": 11,
   "metadata": {
    "ExecuteTime": {
     "end_time": "2016-07-29T06:18:59.812298",
     "start_time": "2016-07-29T06:18:59.568513"
    },
    "collapsed": false
   },
   "outputs": [
    {
     "data": {
      "text/plain": [
       "[<matplotlib.lines.Line2D at 0x7f920bf83610>]"
      ]
     },
     "execution_count": 11,
     "metadata": {},
     "output_type": "execute_result"
    },
    {
     "data": {
      "image/png": "[encoded data removed]",
      "text/plain": [
       "<matplotlib.figure.Figure at 0x7f920bfeaf90>"
      ]
     },
     "metadata": {},
     "output_type": "display_data"
    }
   ],
   "source": [
    "pylab.plot(ts_spikes[:1000, 100])"
   ]
  }
 ],
 "metadata": {
  "kernelspec": {
   "display_name": "Python 2",
   "language": "python",
   "name": "python2"
  },
  "language_info": {
   "codemirror_mode": {
    "name": "ipython",
    "version": 2
   },
   "file_extension": ".py",
   "mimetype": "text/x-python",
   "name": "python",
   "nbconvert_exporter": "python",
   "pygments_lexer": "ipython2",
   "version": "2.7.12"
  }
 },
 "nbformat": 4,
 "nbformat_minor": 0
}
