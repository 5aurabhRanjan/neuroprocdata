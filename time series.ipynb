{
 "cells": [
  {
   "cell_type": "markdown",
   "metadata": {
    "run_control": {
     "frozen": false,
     "read_only": false
    }
   },
   "source": [
    "# basic neuroproc timeseries\n",
    "\n",
    "The spiking timeseries are available in both numpy `.npy` format as well as HDF5 format. We'll focus on the `.npy` format here. There are three games, and for each of those we can look at the transistor (on/off) and wire voltage (rising/falling) state. \n",
    "\n",
    "The files names are `{game}.{duration}{transistor or wire}{format}.gz`. A small snippet of donkey kong is avaialble for quick experimentation and validation:\n",
    "\n",
    "- [`donkeykong.5000.ts.spikes.npy.gz`](https://s3-us-west-2.amazonaws.com/ericmjonas-public/data/neuroproc/donkeykong.5000.ts.spikes.npy.gz)\n",
    "- [`donkeykong.5000.ws.spikes.npy.gz`](https://s3-us-west-2.amazonaws.com/ericmjonas-public/data/neuroproc/donkeykong.5000.ws.spikes.npy.gz)\n",
    "- [`donkeykong.5000.ts.spikes.h5.gz`](https://s3-us-west-2.amazonaws.com/ericmjonas-public/data/neuroproc/donkeykong.5000.ts.spikes.h5.gz)\n",
    "- [`donkeykong.5000.ws.spikes.h5.gz`](https://s3-us-west-2.amazonaws.com/ericmjonas-public/data/neuroproc/donkeykong.5000.ws.spikes.h5.gz)\n",
    "\n"
   ]
  },
  {
   "cell_type": "code",
   "execution_count": 1,
   "metadata": {
    "ExecuteTime": {
     "end_time": "2016-07-29T12:45:36.953444",
     "start_time": "2016-07-29T12:45:35.475227"
    },
    "collapsed": false,
    "run_control": {
     "frozen": false,
     "read_only": false
    }
   },
   "outputs": [
    {
     "name": "stdout",
     "output_type": "stream",
     "text": [
      "Populating the interactive namespace from numpy and matplotlib\n"
     ]
    }
   ],
   "source": [
    "%pylab inline\n",
    "import numpy as np"
   ]
  },
  {
   "cell_type": "code",
   "execution_count": 2,
   "metadata": {
    "ExecuteTime": {
     "end_time": "2016-07-29T12:45:39.421583",
     "start_time": "2016-07-29T12:45:36.955850"
    },
    "collapsed": false,
    "run_control": {
     "frozen": false,
     "read_only": false
    }
   },
   "outputs": [
    {
     "name": "stdout",
     "output_type": "stream",
     "text": [
      "--2016-07-29 12:45:37--  https://s3-us-west-2.amazonaws.com/ericmjonas-public/data/neuroproc/donkeykong.5000.ts.spikes.npy.gz\n",
      "Resolving s3-us-west-2.amazonaws.com (s3-us-west-2.amazonaws.com)... 54.231.177.0\n",
      "Connecting to s3-us-west-2.amazonaws.com (s3-us-west-2.amazonaws.com)|54.231.177.0|:443... connected.\n",
      "HTTP request sent, awaiting response... 200 OK\n",
      "Length: 60672826 (58M) [binary/octet-stream]\n",
      "Saving to: ‘donkeykong.5000.ts.spikes.npy.gz’\n",
      "\n",
      "100%[======================================>] 60,672,826  39.3MB/s   in 1.5s   \n",
      "\n",
      "2016-07-29 12:45:39 (39.3 MB/s) - ‘donkeykong.5000.ts.spikes.npy.gz’ saved [60672826/60672826]\n",
      "\n"
     ]
    }
   ],
   "source": [
    "# Let's look at the short donkeykong\n",
    "\n",
    "! wget -O donkeykong.5000.ts.spikes.npy.gz https://s3-us-west-2.amazonaws.com/ericmjonas-public/data/neuroproc/donkeykong.5000.ts.spikes.npy.gz"
   ]
  },
  {
   "cell_type": "code",
   "execution_count": 3,
   "metadata": {
    "ExecuteTime": {
     "end_time": "2016-07-29T12:45:51.542323",
     "start_time": "2016-07-29T12:45:39.424751"
    },
    "collapsed": false,
    "run_control": {
     "frozen": false,
     "read_only": false
    }
   },
   "outputs": [],
   "source": [
    "!gunzip -f donkeykong.5000.ts.spikes.npy.gz"
   ]
  },
  {
   "cell_type": "code",
   "execution_count": 4,
   "metadata": {
    "ExecuteTime": {
     "end_time": "2016-07-29T12:45:51.553893",
     "start_time": "2016-07-29T12:45:51.546136"
    },
    "collapsed": true,
    "run_control": {
     "frozen": false,
     "read_only": false
    }
   },
   "outputs": [],
   "source": [
    "# I highly recommend mmapping-in the files -- not necessary for the small one but the others are 20+ GB\n",
    "ts_spikes = np.load(\"donkeykong.5000.ts.spikes.npy\", mmap_mode='r')"
   ]
  },
  {
   "cell_type": "code",
   "execution_count": 5,
   "metadata": {
    "ExecuteTime": {
     "end_time": "2016-07-29T12:45:51.585734",
     "start_time": "2016-07-29T12:45:51.556152"
    },
    "collapsed": false,
    "run_control": {
     "frozen": false,
     "read_only": false
    }
   },
   "outputs": [
    {
     "data": {
      "text/plain": [
       "(639999, 3510)"
      ]
     },
     "execution_count": 5,
     "metadata": {},
     "output_type": "execute_result"
    }
   ],
   "source": [
    "ts_spikes.shape"
   ]
  },
  {
   "cell_type": "code",
   "execution_count": 6,
   "metadata": {
    "ExecuteTime": {
     "end_time": "2016-07-29T12:45:54.488457",
     "start_time": "2016-07-29T12:45:51.587957"
    },
    "collapsed": false
   },
   "outputs": [
    {
     "data": {
      "text/plain": [
       "memmap(104260210L, dtype=uint64)"
      ]
     },
     "execution_count": 6,
     "metadata": {},
     "output_type": "execute_result"
    }
   ],
   "source": [
    "np.sum(ts_spikes)"
   ]
  },
  {
   "cell_type": "code",
   "execution_count": 8,
   "metadata": {
    "ExecuteTime": {
     "end_time": "2016-07-29T12:52:33.398614",
     "start_time": "2016-07-29T12:52:33.163971"
    },
    "collapsed": false,
    "run_control": {
     "frozen": false,
     "read_only": false
    }
   },
   "outputs": [
    {
     "data": {
      "text/plain": [
       "[<matplotlib.lines.Line2D at 0x7f63504b4210>]"
      ]
     },
     "execution_count": 8,
     "metadata": {},
     "output_type": "execute_result"
    },
    {
     "data": {
      "image/png": "[encoded data removed]",
      "text/plain": [
       "<matplotlib.figure.Figure at 0x7f6350ad7590>"
      ]
     },
     "metadata": {},
     "output_type": "display_data"
    }
   ],
   "source": [
    "pylab.plot(ts_spikes[:100, 100])"
   ]
  }
 ],
 "metadata": {
  "kernelspec": {
   "display_name": "Python 2",
   "language": "python",
   "name": "python2"
  },
  "language_info": {
   "codemirror_mode": {
    "name": "ipython",
    "version": 2
   },
   "file_extension": ".py",
   "mimetype": "text/x-python",
   "name": "python",
   "nbconvert_exporter": "python",
   "pygments_lexer": "ipython2",
   "version": "2.7.12"
  }
 },
 "nbformat": 4,
 "nbformat_minor": 0
}
